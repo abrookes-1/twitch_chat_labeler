{
  "nbformat": 4,
  "nbformat_minor": 0,
  "metadata": {
    "colab": {
      "name": "chat_labeler.ipynb",
      "provenance": [],
      "collapsed_sections": []
    },
    "kernelspec": {
      "name": "python3",
      "display_name": "Python 3"
    },
    "language_info": {
      "name": "python"
    }
  },
  "cells": [
    {
      "cell_type": "code",
      "metadata": {
        "id": "AMXWHadNkBXK",
        "colab": {
          "base_uri": "https://localhost:8080/"
        },
        "outputId": "2f54a39d-6d0b-40e4-85d0-809a90bf410c"
      },
      "source": [
        "!pip install textblob\n",
        "!python -m textblob.download_corpora\n",
        "!pip install vaderSentiment\n",
        "import pandas as pd\n",
        "import numpy as np\n",
        "from collections import Counter\n",
        "import matplotlib.pyplot as plt\n",
        "import sklearn as sk\n",
        "from sklearn.linear_model import LogisticRegression\n",
        "from sklearn.model_selection import train_test_split\n",
        "from sklearn.feature_extraction.text import CountVectorizer\n",
        "\n",
        "from textblob import TextBlob\n",
        "from vaderSentiment.vaderSentiment import SentimentIntensityAnalyzer"
      ],
      "execution_count": null,
      "outputs": [
        {
          "output_type": "stream",
          "text": [
            "Requirement already satisfied: textblob in /usr/local/lib/python3.7/dist-packages (0.15.3)\n",
            "Requirement already satisfied: nltk>=3.1 in /usr/local/lib/python3.7/dist-packages (from textblob) (3.2.5)\n",
            "Requirement already satisfied: six in /usr/local/lib/python3.7/dist-packages (from nltk>=3.1->textblob) (1.15.0)\n",
            "[nltk_data] Downloading package brown to /root/nltk_data...\n",
            "[nltk_data]   Package brown is already up-to-date!\n",
            "[nltk_data] Downloading package punkt to /root/nltk_data...\n",
            "[nltk_data]   Package punkt is already up-to-date!\n",
            "[nltk_data] Downloading package wordnet to /root/nltk_data...\n",
            "[nltk_data]   Package wordnet is already up-to-date!\n",
            "[nltk_data] Downloading package averaged_perceptron_tagger to\n",
            "[nltk_data]     /root/nltk_data...\n",
            "[nltk_data]   Package averaged_perceptron_tagger is already up-to-\n",
            "[nltk_data]       date!\n",
            "[nltk_data] Downloading package conll2000 to /root/nltk_data...\n",
            "[nltk_data]   Package conll2000 is already up-to-date!\n",
            "[nltk_data] Downloading package movie_reviews to /root/nltk_data...\n",
            "[nltk_data]   Package movie_reviews is already up-to-date!\n",
            "Finished.\n",
            "Requirement already satisfied: vaderSentiment in /usr/local/lib/python3.7/dist-packages (3.3.2)\n",
            "Requirement already satisfied: requests in /usr/local/lib/python3.7/dist-packages (from vaderSentiment) (2.23.0)\n",
            "Requirement already satisfied: certifi>=2017.4.17 in /usr/local/lib/python3.7/dist-packages (from requests->vaderSentiment) (2020.12.5)\n",
            "Requirement already satisfied: idna<3,>=2.5 in /usr/local/lib/python3.7/dist-packages (from requests->vaderSentiment) (2.10)\n",
            "Requirement already satisfied: urllib3!=1.25.0,!=1.25.1,<1.26,>=1.21.1 in /usr/local/lib/python3.7/dist-packages (from requests->vaderSentiment) (1.24.3)\n",
            "Requirement already satisfied: chardet<4,>=3.0.2 in /usr/local/lib/python3.7/dist-packages (from requests->vaderSentiment) (3.0.4)\n"
          ],
          "name": "stdout"
        }
      ]
    },
    {
      "cell_type": "code",
      "metadata": {
        "colab": {
          "base_uri": "https://localhost:8080/",
          "height": 202
        },
        "id": "JbA5jN_ykKfF",
        "outputId": "68c226bc-935b-497c-94ee-b83bc23f6761"
      },
      "source": [
        "data = pd.read_pickle('admiralbulldog.pkl')\n",
        "# data['toxic'] = None\n",
        "# data.to_pickle('admiralbulldog.pkl')\n",
        "data.head()"
      ],
      "execution_count": null,
      "outputs": [
        {
          "output_type": "execute_result",
          "data": {
            "text/html": [
              "<div>\n",
              "<style scoped>\n",
              "    .dataframe tbody tr th:only-of-type {\n",
              "        vertical-align: middle;\n",
              "    }\n",
              "\n",
              "    .dataframe tbody tr th {\n",
              "        vertical-align: top;\n",
              "    }\n",
              "\n",
              "    .dataframe thead th {\n",
              "        text-align: right;\n",
              "    }\n",
              "</style>\n",
              "<table border=\"1\" class=\"dataframe\">\n",
              "  <thead>\n",
              "    <tr style=\"text-align: right;\">\n",
              "      <th></th>\n",
              "      <th>body</th>\n",
              "      <th>channel_id</th>\n",
              "      <th>commenter_id</th>\n",
              "      <th>commenter_type</th>\n",
              "      <th>created_at</th>\n",
              "      <th>fragments</th>\n",
              "      <th>offset</th>\n",
              "      <th>updated_at</th>\n",
              "      <th>video_id</th>\n",
              "      <th>toxic</th>\n",
              "    </tr>\n",
              "  </thead>\n",
              "  <tbody>\n",
              "    <tr>\n",
              "      <th>0</th>\n",
              "      <td>PogU</td>\n",
              "      <td>30816637</td>\n",
              "      <td>133955304</td>\n",
              "      <td>user</td>\n",
              "      <td>2018-06-24T17:18:27.293Z</td>\n",
              "      <td>[{'text': 'PogU'}]</td>\n",
              "      <td>17.593</td>\n",
              "      <td>2018-06-24T17:18:27.293Z</td>\n",
              "      <td>277076677</td>\n",
              "      <td>0</td>\n",
              "    </tr>\n",
              "    <tr>\n",
              "      <th>1</th>\n",
              "      <td>ma boii</td>\n",
              "      <td>30816637</td>\n",
              "      <td>102631683</td>\n",
              "      <td>user</td>\n",
              "      <td>2018-06-24T17:18:28.326Z</td>\n",
              "      <td>[{'text': 'ma boii'}]</td>\n",
              "      <td>18.626</td>\n",
              "      <td>2018-06-24T17:18:28.326Z</td>\n",
              "      <td>277076677</td>\n",
              "      <td>0</td>\n",
              "    </tr>\n",
              "    <tr>\n",
              "      <th>2</th>\n",
              "      <td>Chag</td>\n",
              "      <td>30816637</td>\n",
              "      <td>118166941</td>\n",
              "      <td>user</td>\n",
              "      <td>2018-06-24T17:18:29.679Z</td>\n",
              "      <td>[{'text': 'Chag'}]</td>\n",
              "      <td>19.979</td>\n",
              "      <td>2018-06-24T17:18:29.679Z</td>\n",
              "      <td>277076677</td>\n",
              "      <td>0</td>\n",
              "    </tr>\n",
              "    <tr>\n",
              "      <th>3</th>\n",
              "      <td>PogU PogU PogU PogU PogU</td>\n",
              "      <td>30816637</td>\n",
              "      <td>98113490</td>\n",
              "      <td>user</td>\n",
              "      <td>2018-06-24T17:18:29.861Z</td>\n",
              "      <td>[{'text': 'PogU PogU PogU PogU PogU'}]</td>\n",
              "      <td>20.161</td>\n",
              "      <td>2018-06-24T17:18:29.861Z</td>\n",
              "      <td>277076677</td>\n",
              "      <td>0</td>\n",
              "    </tr>\n",
              "    <tr>\n",
              "      <th>4</th>\n",
              "      <td>Chag</td>\n",
              "      <td>30816637</td>\n",
              "      <td>134134714</td>\n",
              "      <td>user</td>\n",
              "      <td>2018-06-24T17:18:35.187Z</td>\n",
              "      <td>[{'text': 'Chag'}]</td>\n",
              "      <td>25.487</td>\n",
              "      <td>2018-06-24T17:18:35.187Z</td>\n",
              "      <td>277076677</td>\n",
              "      <td>0</td>\n",
              "    </tr>\n",
              "  </tbody>\n",
              "</table>\n",
              "</div>"
            ],
            "text/plain": [
              "                       body channel_id  ...   video_id toxic\n",
              "0                      PogU   30816637  ...  277076677     0\n",
              "1                   ma boii   30816637  ...  277076677     0\n",
              "2                      Chag   30816637  ...  277076677     0\n",
              "3  PogU PogU PogU PogU PogU   30816637  ...  277076677     0\n",
              "4                      Chag   30816637  ...  277076677     0\n",
              "\n",
              "[5 rows x 10 columns]"
            ]
          },
          "metadata": {
            "tags": []
          },
          "execution_count": 3
        }
      ]
    },
    {
      "cell_type": "code",
      "metadata": {
        "colab": {
          "base_uri": "https://localhost:8080/"
        },
        "id": "XhJ6XCOTh-f8",
        "outputId": "cd1dd792-4240-4ed4-96a6-1e5ce825b903"
      },
      "source": [
        "data['toxic'].describe()"
      ],
      "execution_count": null,
      "outputs": [
        {
          "output_type": "execute_result",
          "data": {
            "text/plain": [
              "count     424\n",
              "unique      2\n",
              "top         0\n",
              "freq      378\n",
              "Name: toxic, dtype: int64"
            ]
          },
          "metadata": {
            "tags": []
          },
          "execution_count": 42
        }
      ]
    },
    {
      "cell_type": "code",
      "metadata": {
        "id": "Bi2TWSVdEADY"
      },
      "source": [
        "# data['toxic'] = data['toxic'][0:400] + [None for i in range(len(data)-400)]\n",
        "# num_labeled = len(data[data['toxic'] != None])"
      ],
      "execution_count": null,
      "outputs": []
    },
    {
      "cell_type": "code",
      "metadata": {
        "id": "WEkQsv2IkN92",
        "colab": {
          "base_uri": "https://localhost:8080/"
        },
        "outputId": "f1e13b5e-fc3a-4a76-cceb-e08e63131b98"
      },
      "source": [
        "for j, row in data.iterrows():\n",
        "    # if row['toxic'] is None and '@admiral' in row['body']:\n",
        "    # if row['toxic'] is None and 'fuck' in row['body'].lower():\n",
        "    if row['toxic'] is None and ' ' in row['body'].lower():\n",
        "        x = input(row['body'] + ': ')\n",
        "        if x is 'q':\n",
        "          break\n",
        "        data.at[j, 'toxic'] = 1 if x is 't' else 0\n",
        "        num_labeled += 1"
      ],
      "execution_count": null,
      "outputs": [
        {
          "output_type": "stream",
          "text": [
            "WutFace WutFace WutFace WutFace: g\n",
            "EBOLA WutFace: g\n",
            "shit 20k bp lvls?: g\n",
            "WutFace WTF: g\n",
            "DansGame DansGame DansGame: g\n",
            "my bou: g\n",
            "4 min INTRO, Pagchomp: g\n",
            "WutFace WutFace: g\n",
            "SwiftRage SwiftRage SwiftRage: g\n",
            "Chag PagChomp PogU PogChamp: g\n",
            "IRL STREAM PogU: g\n",
            "MI LUL AN: g\n",
            "PogCena STILL DIDN'T REFRESH PogCena: g\n",
            "I WAS EATING HYPERDANSGAME: g\n",
            "WutFace WutFace 🤮: g\n",
            "I WAS EATING HYPERDANSGAME: g\n",
            "SYND LUl: g\n",
            "SYND LUL: g\n",
            "OMEGALUL G: g\n",
            "SYND LUL: g\n",
            "GabeN ?: g\n",
            "COPYRIGHT BANNED: g\n",
            "Synd LUL: g\n",
            "CHINESE ?: g\n",
            "monkaGIGA BANNED: g\n",
            "SYND LUL: g\n",
            "SYND LUL: g\n",
            "SYND? LUL: g\n",
            "IRL Stream DansGame: g\n",
            "waduT TriHard: g\n",
            "monkaTOS BANNED: g\n",
            "BANNED monkaGIGA: g\n",
            "SYND OMEGALUL: g\n",
            "DONT GET BANNED: g\n",
            "BANNED OMEGALUL: g\n",
            "NO SYND PepeHands: g\n",
            "WRONG TITEL: g\n",
            "JESUS WHAT ARE YOU DOING: g\n",
            "IRL Jebaited: g\n",
            "monkaTOS BANNED: g\n",
            "purge PogChamp: g\n",
            "monkaGIGA TOS: g\n",
            "monkaTOS monkaTOS monkaTOS monkaTOS: g\n",
            "yall KKona: g\n",
            "your sellout sir.. monkaS: t\n",
            "monkaTOS .: g\n",
            "monkaTOS PepeHands: g\n",
            "monkaTOS Clap: g\n",
            "monkaTOS Jebaited: g\n",
            "monkaTOS monkaHands: g\n",
            "cmonBrother Y'ALL: g\n",
            "PepeHands PogCena: g\n",
            "I CAN SEE IT monkaTOS I CAN SEE IT monkaTOS: g\n",
            "monkaTOS Clap: g\n",
            "monkas TOS: g\n",
            "I CAN SEE IT monkaTOS: g\n",
            "monkaTOS monkaHands: g\n",
            "forsenKek don't tell him forsenKek: g\n",
            "monkaTOS Clap: g\n",
            "dem weegus: g\n",
            "monkaGIGA monkaTOS: g\n",
            "synd LuL: g\n",
            "SYND LUL: g\n",
            "monkaS TOS: g\n",
            "@AdmiralBulldog did you know in dota that creeps give gold?: g\n",
            "PogCena PepeHands: g\n",
            "SENEGAL FOOTBALL PogChamp: g\n",
            "Don't spam monkaTOS, chat 😡: g\n",
            "The stream has been live for 5m 45s: g\n",
            "monkaTOS LUL: g\n",
            "7CKNGBAD LUL: g\n",
            "ANY MC FANS? SoBayed: g\n",
            "PepeHands PogCena OMEGAEZ FeelsGoodMan: g\n",
            "seNEGAl cmonBruh: g\n",
            "FreakinStinkin THENKS FreakinStinkin FER FreakinStinkin SEBBIN FreakinStinkin WELKEM FreakinStinkin TO FreakinStinkin TEH KEPPA FreakinStinkin KLEB TH3WARH3R0 FreakinStinkin Use !discord for information about getting into the discord server!: g\n",
            "SENEGAL PogChamp ARGENTINA OMEGALUL: g\n",
            "OSFrog Clap: g\n",
            "Sub clap: g\n",
            "PunOko Squid4 2 - 2 PowerUpL cmonBruh: g\n",
            "ANELE Clap: g\n",
            "C OMEGALUL RE CL OMEGALUL CK: g\n",
            "PepeHands PogCena: g\n",
            "Mein_ContRoL Kappa Clap: g\n",
            "😡 monkaTOS OR RIOT 😡: g\n",
            "Not gonna happen PepeHands: g\n",
            "PogCena STILL DIDN'T REFRESH PogCena: g\n",
            "monkaTOS Clap: g\n",
            "add weeb: g\n",
            "Chag Clap: g\n",
            "800 vie wers PepeHands: g\n",
            "Master donger: g\n",
            "monkaTOS PepeHands: g\n",
            "Seneggal Chag: g\n",
            "@AdmiralBulldog Just woke up Chag: g\n",
            "Chag monkaTOS: g\n",
            "monkaTOS Clap: q\n"
          ],
          "name": "stdout"
        }
      ]
    },
    {
      "cell_type": "code",
      "metadata": {
        "colab": {
          "base_uri": "https://localhost:8080/"
        },
        "id": "4AGjDLVzmkjF",
        "outputId": "f7cd366e-ce8b-4f99-c1ac-de8a5af828ca"
      },
      "source": [
        "num_labeled = len(data[data['toxic'].isin([0,1])])\n",
        "print(f'labeled data points: {num_labeled}')\n",
        "t_count = len(data[data['toxic'] == True])\n",
        "print(f'{t_count} of those are likely toxic')\n",
        "data.to_pickle('admiralbulldog.pkl')"
      ],
      "execution_count": null,
      "outputs": [
        {
          "output_type": "stream",
          "text": [
            "labeled data points: 788\n",
            "61 of those are likely toxic\n"
          ],
          "name": "stdout"
        }
      ]
    },
    {
      "cell_type": "code",
      "metadata": {
        "colab": {
          "base_uri": "https://localhost:8080/",
          "height": 324
        },
        "id": "i4eLKHqXlRVV",
        "outputId": "1c8153f1-3571-461b-87ac-89b225d078ca"
      },
      "source": [
        "max_show = 20\n",
        "toxic_words = []\n",
        "okay_words = []\n",
        "\n",
        "for i, row in data[data['toxic'] == True].iterrows():\n",
        "    sentence = row['body'].lower()\n",
        "    for word in sentence.split(' '):\n",
        "        if '@' not in word:\n",
        "            toxic_words.append(word)\n",
        "\n",
        "for i, row in data[data['toxic'] == False].iterrows():\n",
        "    sentence = row['body'].lower()\n",
        "    for word in sentence.split(' '):\n",
        "        if '@' not in word:\n",
        "            toxic_words.append(word)\n",
        "\n",
        "t_counts = Counter(toxic_words)\n",
        "t_labels, t_values = zip(*t_counts.items())\n",
        "\n",
        "ind_sort = np.argsort(t_values)[::-1]\n",
        "\n",
        "t_labels = np.array(t_labels)[ind_sort][:max_show]\n",
        "t_values = np.array(t_values)[ind_sort][:max_show]\n",
        "\n",
        "indexes = np.arange(len(t_labels))\n",
        "\n",
        "bar_width = 0.35\n",
        "\n",
        "plt.bar(indexes, t_values)\n",
        "\n",
        "plt.xticks(indexes + bar_width, t_labels, rotation=90)\n",
        "plt.title('Bag of Words for Toxic Messages')\n",
        "plt.show()"
      ],
      "execution_count": null,
      "outputs": [
        {
          "output_type": "display_data",
          "data": {
            "image/png": "[encoded data removed]",
            "text/plain": [
              "<Figure size 432x288 with 1 Axes>"
            ]
          },
          "metadata": {
            "tags": [],
            "needs_background": "light"
          }
        }
      ]
    },
    {
      "cell_type": "code",
      "metadata": {
        "colab": {
          "base_uri": "https://localhost:8080/"
        },
        "id": "uaAJuy5J_slr",
        "outputId": "e6e5682e-dcc5-4e91-b30f-4b2b738bf1ce"
      },
      "source": [
        "test = [\n",
        "        'HOY ADMIRAL BOBO WASHED UP IDIOT',\n",
        "        '@admiralbulldog but you are bald and i have hairs LULW',\n",
        "        '@admiralbulldog qualify for last place again LUL',\n",
        "        'shut up chat u fucks',\n",
        "        'Dude how do you skip eye of the tiger for this garbage song',\n",
        "]\n",
        "for s in test:\n",
        "    blob = TextBlob(s)\n",
        "    print(blob)\n",
        "    print(blob.sentiment)\n",
        "    print()"
      ],
      "execution_count": null,
      "outputs": [
        {
          "output_type": "stream",
          "text": [
            "HOY ADMIRAL BOBO WASHED UP IDIOT\n",
            "Sentiment(polarity=-0.8, subjectivity=0.8)\n",
            "\n",
            "@admiralbulldog but you are bald and i have hairs LULW\n",
            "Sentiment(polarity=0.0, subjectivity=0.0)\n",
            "\n",
            "@admiralbulldog qualify for last place again LUL\n",
            "Sentiment(polarity=0.0, subjectivity=0.06666666666666667)\n",
            "\n",
            "shut up chat u fucks\n",
            "Sentiment(polarity=0.0, subjectivity=0.0)\n",
            "\n",
            "Dude how do you skip eye of the tiger for this garbage song\n",
            "Sentiment(polarity=0.0, subjectivity=0.0)\n",
            "\n"
          ],
          "name": "stdout"
        }
      ]
    },
    {
      "cell_type": "code",
      "metadata": {
        "colab": {
          "base_uri": "https://localhost:8080/"
        },
        "id": "4EQc89DHSRrJ",
        "outputId": "7eaee986-49ce-40c0-8902-7938d3b38624"
      },
      "source": [
        "analyzer = SentimentIntensityAnalyzer()\n",
        "for s in test:\n",
        "    print(s)\n",
        "    print(analyzer.polarity_scores(s))\n",
        "    print()"
      ],
      "execution_count": null,
      "outputs": [
        {
          "output_type": "stream",
          "text": [
            "HOY ADMIRAL BOBO WASHED UP IDIOT\n",
            "{'neg': 0.344, 'neu': 0.417, 'pos': 0.24, 'compound': -0.25}\n",
            "\n",
            "@admiralbulldog but you are bald and i have hairs LULW\n",
            "{'neg': 0.0, 'neu': 1.0, 'pos': 0.0, 'compound': 0.0}\n",
            "\n",
            "@admiralbulldog qualify for last place again LUL\n",
            "{'neg': 0.0, 'neu': 1.0, 'pos': 0.0, 'compound': 0.0}\n",
            "\n",
            "shut up chat u fucks\n",
            "{'neg': 0.437, 'neu': 0.563, 'pos': 0.0, 'compound': -0.4767}\n",
            "\n",
            "Dude how do you skip eye of the tiger for this garbage song\n",
            "{'neg': 0.0, 'neu': 1.0, 'pos': 0.0, 'compound': 0.0}\n",
            "\n"
          ],
          "name": "stdout"
        }
      ]
    },
    {
      "cell_type": "code",
      "metadata": {
        "colab": {
          "base_uri": "https://localhost:8080/",
          "height": 328
        },
        "id": "DT075RgJVDl2",
        "outputId": "39451bee-9c84-4a3f-c236-088b81e94ec9"
      },
      "source": [
        "def remove_punctuation(text):\n",
        "    return \"\".join(u for u in text if u not in (\"?\", \".\", \";\", \":\",  \"!\",'\"', '@'))\n",
        "\n",
        "clean_data = data[data['toxic'].isin([0,1])]\n",
        "clean_data['text'] = clean_data.apply(lambda row: remove_punctuation(row['body']), axis=1)\n",
        "clean_data = clean_data.drop(['body', 'channel_id', 'commenter_id', 'commenter_type', 'created_at', 'fragments',\t'offset', 'updated_at', 'video_id'], axis=1)\n",
        "\n",
        "print(len(clean_data))\n",
        "clean_data.head()"
      ],
      "execution_count": null,
      "outputs": [
        {
          "output_type": "stream",
          "text": [
            "788\n"
          ],
          "name": "stdout"
        },
        {
          "output_type": "stream",
          "text": [
            "/usr/local/lib/python3.7/dist-packages/ipykernel_launcher.py:5: SettingWithCopyWarning: \n",
            "A value is trying to be set on a copy of a slice from a DataFrame.\n",
            "Try using .loc[row_indexer,col_indexer] = value instead\n",
            "\n",
            "See the caveats in the documentation: https://pandas.pydata.org/pandas-docs/stable/user_guide/indexing.html#returning-a-view-versus-a-copy\n",
            "  \"\"\"\n"
          ],
          "name": "stderr"
        },
        {
          "output_type": "execute_result",
          "data": {
            "text/html": [
              "<div>\n",
              "<style scoped>\n",
              "    .dataframe tbody tr th:only-of-type {\n",
              "        vertical-align: middle;\n",
              "    }\n",
              "\n",
              "    .dataframe tbody tr th {\n",
              "        vertical-align: top;\n",
              "    }\n",
              "\n",
              "    .dataframe thead th {\n",
              "        text-align: right;\n",
              "    }\n",
              "</style>\n",
              "<table border=\"1\" class=\"dataframe\">\n",
              "  <thead>\n",
              "    <tr style=\"text-align: right;\">\n",
              "      <th></th>\n",
              "      <th>toxic</th>\n",
              "      <th>text</th>\n",
              "    </tr>\n",
              "  </thead>\n",
              "  <tbody>\n",
              "    <tr>\n",
              "      <th>0</th>\n",
              "      <td>0</td>\n",
              "      <td>PogU</td>\n",
              "    </tr>\n",
              "    <tr>\n",
              "      <th>1</th>\n",
              "      <td>0</td>\n",
              "      <td>ma boii</td>\n",
              "    </tr>\n",
              "    <tr>\n",
              "      <th>2</th>\n",
              "      <td>0</td>\n",
              "      <td>Chag</td>\n",
              "    </tr>\n",
              "    <tr>\n",
              "      <th>3</th>\n",
              "      <td>0</td>\n",
              "      <td>PogU PogU PogU PogU PogU</td>\n",
              "    </tr>\n",
              "    <tr>\n",
              "      <th>4</th>\n",
              "      <td>0</td>\n",
              "      <td>Chag</td>\n",
              "    </tr>\n",
              "  </tbody>\n",
              "</table>\n",
              "</div>"
            ],
            "text/plain": [
              "  toxic                      text\n",
              "0     0                      PogU\n",
              "1     0                   ma boii\n",
              "2     0                      Chag\n",
              "3     0  PogU PogU PogU PogU PogU\n",
              "4     0                      Chag"
            ]
          },
          "metadata": {
            "tags": []
          },
          "execution_count": 78
        }
      ]
    },
    {
      "cell_type": "code",
      "metadata": {
        "colab": {
          "base_uri": "https://localhost:8080/"
        },
        "id": "HUrxTd0XXLu6",
        "outputId": "470aa61d-6f29-4d86-8706-708e48b12d31"
      },
      "source": [
        "X_train, X_test, y_train, y_test = train_test_split(clean_data['text'], clean_data['toxic'], test_size=0.15)\n",
        "\n",
        "# display(clean_data['toxic'].describe())\n",
        "# display(clean_data)\n",
        "\n",
        "y_train = y_train.astype('int')\n",
        "y_test = y_test.astype('int')\n",
        "\n",
        "vectorizer = CountVectorizer(token_pattern=r'\\b\\w+\\b')\n",
        "\n",
        "train_matrix = vectorizer.fit_transform(X_train)\n",
        "test_matrix = vectorizer.transform(X_test)\n",
        "\n",
        "lr = LogisticRegression()\n",
        "lr.fit(train_matrix, y_train)\n",
        "pred = lr.predict(test_matrix)\n",
        "\n",
        "result = X_test\n",
        "result['class'] = pred\n",
        "\n",
        "sk.metrics.f1_score(y_test, pred)"
      ],
      "execution_count": null,
      "outputs": [
        {
          "output_type": "execute_result",
          "data": {
            "text/plain": [
              "0.5714285714285715"
            ]
          },
          "metadata": {
            "tags": []
          },
          "execution_count": 94
        }
      ]
    },
    {
      "cell_type": "code",
      "metadata": {
        "id": "5K8jEpULZLUv"
      },
      "source": [
        ""
      ],
      "execution_count": null,
      "outputs": []
    }
  ]
}